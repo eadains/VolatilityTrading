{
 "cells": [
  {
   "cell_type": "code",
   "execution_count": 133,
   "id": "7a92d29b",
   "metadata": {},
   "outputs": [],
   "source": [
    "import numpy as np\n",
    "import pandas as pd\n",
    "from scipy.optimize import minimize\n",
    "from scipy.stats import norm\n",
    "\n",
    "import model\n",
    "\n",
    "import matplotlib.pyplot as plt\n",
    "plt.rcParams[\"figure.figsize\"] = (15,10)"
   ]
  },
  {
   "cell_type": "code",
   "execution_count": 77,
   "id": "575d9c43",
   "metadata": {},
   "outputs": [
    {
     "name": "stderr",
     "output_type": "stream",
     "text": [
      "INFO:cmdstanpy:compiling stan program, exe file: /home/eadains/VolatilityTrading/stan_model/model\n",
      "INFO:cmdstanpy:compiler options: stanc_options=None, cpp_options=None\n",
      "INFO:cmdstanpy:compiled model file: /home/eadains/VolatilityTrading/stan_model/model\n",
      "INFO:cmdstanpy:start chain 1\n",
      "INFO:cmdstanpy:start chain 2\n",
      "INFO:cmdstanpy:start chain 3\n",
      "INFO:cmdstanpy:start chain 4\n",
      "INFO:cmdstanpy:finish chain 1\n",
      "INFO:cmdstanpy:finish chain 3\n",
      "INFO:cmdstanpy:finish chain 4\n",
      "INFO:cmdstanpy:finish chain 2\n"
     ]
    }
   ],
   "source": [
    "returns = model.get_returns_forecast()"
   ]
  },
  {
   "cell_type": "code",
   "execution_count": 452,
   "id": "2e269bbb",
   "metadata": {},
   "outputs": [],
   "source": [
    "def bs_price(right, S, K, T, sigma, r):\n",
    "    \"\"\"\n",
    "    Return's option price via Black-Scholes\n",
    "\n",
    "    right: \"P\" or \"C\"\n",
    "    S: Underlying price\n",
    "    K: Strike price\n",
    "    T: time to expiration (in fractions of a year)\n",
    "    sigma: volatility of the underlying\n",
    "    r: interest rate (in annual terms)\n",
    "    \"\"\"\n",
    "    d1 = (1 / (sigma * np.sqrt(T))) * (np.log(S / K) + (r + sigma ** 2 / 2) * T)\n",
    "    d2 = d1 - sigma * np.sqrt(T)\n",
    "\n",
    "    if right == \"C\":\n",
    "        price = norm.cdf(d1) * S - norm.cdf(d2) * K * np.exp(-r * T)\n",
    "        return price\n",
    "\n",
    "    if right == \"P\":\n",
    "        price = norm.cdf(-d2) * K * np.exp(-r * T) - norm.cdf(-d1) * S\n",
    "        return price\n",
    "\n",
    "\n",
    "def log_wealth_optim(f, pnl):\n",
    "    \"\"\"\n",
    "    Returns the negative of log wealth for optimization\n",
    "    \"\"\"\n",
    "    return -np.mean(np.log(1 + f * pnl))\n",
    "\n",
    "class ShortIronCondor:\n",
    "    def __init__(self, chain, dte, risk_free_rate):\n",
    "        \"\"\"\n",
    "        Class for all information required to determine what option position to enter into\n",
    "        and the kelly sizing percentage\n",
    "\n",
    "        chain: pandas dataframe containing options chain\n",
    "        vols: sample of future WEEKLY volatilities\n",
    "        dte: days to expiration of options contracts given in chain\n",
    "        risk_free_rate: current market risk free rate of return given in annualized terms\n",
    "        \"\"\"\n",
    "        self.chain = chain\n",
    "        self.underlying_price = self.chain.iloc[0][\"underprice\"]\n",
    "        self.dte = dte\n",
    "        self.risk_free_rate = risk_free_rate\n",
    "\n",
    "        self.calc_values()\n",
    "        (\n",
    "            self.short_put,\n",
    "            self.short_call,\n",
    "            self.long_put,\n",
    "            self.long_call,\n",
    "        ) = self.find_contracts()\n",
    "        self.premium = (self.short_call[\"mid_price\"] + self.short_put[\"mid_price\"]) - (\n",
    "            self.long_put[\"mid_price\"] + self.long_call[\"mid_price\"]\n",
    "        )\n",
    "        # Deflate the premium by 10% to be conservative and account for slippage\n",
    "        self.premium = 0.90 * self.premium\n",
    "        self.max_loss = self.short_put[\"strike\"] - self.long_put[\"strike\"] - self.premium\n",
    "\n",
    "    def calc_values(self):\n",
    "        \"\"\"\n",
    "        Calculates Mid price and skew premium for each option in chain\n",
    "        \"\"\"\n",
    "        atm_contract_index = (\n",
    "            np.abs(self.chain[\"strike\"] - self.underlying_price)\n",
    "        ).idxmin()\n",
    "        atm_impliedvol = self.chain.iloc[atm_contract_index][\"impvol\"]\n",
    "\n",
    "        # Calculate option value for all options using ATM volatility\n",
    "        self.chain[\"model_value\"] = self.chain.apply(\n",
    "            lambda x: bs_price(\n",
    "                x[\"right\"],\n",
    "                x[\"underprice\"],\n",
    "                x[\"strike\"],\n",
    "                self.dte / 252,\n",
    "                atm_impliedvol,\n",
    "                self.risk_free_rate,\n",
    "            ),\n",
    "            axis=1,\n",
    "        )\n",
    "        self.chain[\"mid_price\"] = (self.chain[\"bid\"] + self.chain[\"ask\"]) / 2\n",
    "        self.chain[\"skew_premium\"] = self.chain[\"mid_price\"] - self.chain[\"model_value\"]\n",
    "\n",
    "    def find_contracts(self):\n",
    "        \"\"\"\n",
    "        Finds put contract with highest skew premium, then call contract with closest delta.\n",
    "        Then picks hedging contracts on either side so that required margin equals $1000\n",
    "        Essentially, picks contracts for short Iron Condor position.\n",
    "        \"\"\"\n",
    "        # Select a put to short that is OTM\n",
    "        short_put = self.chain[\n",
    "            (self.chain[\"right\"] == \"P\")\n",
    "            & (self.chain[\"strike\"] < self.underlying_price)\n",
    "        ][\"skew_premium\"].idxmax()\n",
    "        short_put = self.chain.iloc[short_put]\n",
    "        # Buy put option so our margin required is $1000\n",
    "        long_put = self.chain[\n",
    "            (self.chain[\"strike\"] == (short_put[\"strike\"] - 10))\n",
    "            & (self.chain[\"right\"] == \"P\")\n",
    "        ].squeeze()\n",
    "\n",
    "        # Find the corresponding call option to make the position delta neutral\n",
    "        put_contract_delta = short_put[\"delta\"]\n",
    "        short_call = np.abs(\n",
    "            self.chain[self.chain[\"right\"] == \"C\"][\"delta\"] + put_contract_delta\n",
    "        ).idxmin()\n",
    "        short_call = self.chain[self.chain[\"right\"] == \"C\"].iloc[short_call]\n",
    "        # Find respective call hedge option\n",
    "        long_call = self.chain[\n",
    "            (self.chain[\"strike\"] == (short_call[\"strike\"] + 10))\n",
    "            & (self.chain[\"right\"] == \"C\")\n",
    "        ].squeeze()\n",
    "\n",
    "        return short_put, short_call, long_put, long_call\n",
    "    \n",
    "    def pnl(self, underlying_price):\n",
    "        \"\"\"\n",
    "        Calculates profit and loss of position at expiration given the underlying price.\n",
    "        \"\"\"\n",
    "        # If underlying is between short strikes\n",
    "        if self.short_call[\"strike\"] >= underlying_price >= self.short_put[\"strike\"]:\n",
    "            pnl = self.premium\n",
    "        # If underlying is under the short put\n",
    "        elif underlying_price < self.short_put[\"strike\"]:\n",
    "            pnl = max(\n",
    "                (underlying_price - self.short_put[\"strike\"]) + self.premium, -self.max_loss\n",
    "            )\n",
    "        # If underlying is above short call\n",
    "        elif underlying_price > self.short_call[\"strike\"]:\n",
    "            pnl = max(\n",
    "                (self.short_call[\"strike\"] - underlying_price) + self.premium, -self.max_loss\n",
    "            )\n",
    "\n",
    "        return pnl"
   ]
  },
  {
   "cell_type": "code",
   "execution_count": 453,
   "id": "9bcb62d5",
   "metadata": {},
   "outputs": [],
   "source": [
    "chain = pd.read_csv(\"option_chain.csv\")\n",
    "position = ShortIronCondor(chain, 5, .01)"
   ]
  },
  {
   "cell_type": "code",
   "execution_count": 461,
   "id": "80f88060",
   "metadata": {
    "scrolled": true
   },
   "outputs": [],
   "source": [
    "prices = position.underlying_price * (1 + (returns * 0.50))\n",
    "pnl_func = np.vectorize(position.pnl)\n",
    "pnls = pnl_func(prices) * 100\n",
    "rets = pnls / 1000\n",
    "\n",
    "initial = 1\n",
    "result = minimize(\n",
    "    log_wealth_optim,\n",
    "    x0=initial,\n",
    "    args=(rets),\n",
    "    constraints=(\n",
    "        {\"type\": \"ineq\", \"fun\": lambda x: x},\n",
    "        {\"type\": \"ineq\", \"fun\": lambda x: 1 - x},\n",
    "    )\n",
    ")"
   ]
  },
  {
   "cell_type": "code",
   "execution_count": 462,
   "id": "f8172ae2",
   "metadata": {},
   "outputs": [],
   "source": [
    "allocs = np.linspace(0, 1, 1000)\n",
    "test = [np.mean(np.log(1 + f * rets)) for f in allocs]"
   ]
  },
  {
   "cell_type": "code",
   "execution_count": 463,
   "id": "9dc15537",
   "metadata": {},
   "outputs": [
    {
     "data": {
      "text/plain": [
       "[<matplotlib.lines.Line2D at 0x7f93ec718070>]"
      ]
     },
     "execution_count": 463,
     "metadata": {},
     "output_type": "execute_result"
    },
    {
     "data": {
      "image/png": "[encoded data removed]",
      "text/plain": [
       "<Figure size 1080x720 with 1 Axes>"
      ]
     },
     "metadata": {
      "needs_background": "light"
     },
     "output_type": "display_data"
    }
   ],
   "source": [
    "plt.plot(allocs, test)"
   ]
  },
  {
   "cell_type": "code",
   "execution_count": null,
   "id": "09e2bfcc",
   "metadata": {},
   "outputs": [],
   "source": []
  }
 ],
 "metadata": {
  "kernelspec": {
   "display_name": "Python 3 (ipykernel)",
   "language": "python",
   "name": "python3"
  },
  "language_info": {
   "codemirror_mode": {
    "name": "ipython",
    "version": 3
   },
   "file_extension": ".py",
   "mimetype": "text/x-python",
   "name": "python",
   "nbconvert_exporter": "python",
   "pygments_lexer": "ipython3",
   "version": "3.8.5"
  }
 },
 "nbformat": 4,
 "nbformat_minor": 5
}

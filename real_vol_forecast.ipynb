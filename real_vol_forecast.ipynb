{
 "cells": [
  {
   "cell_type": "code",
   "execution_count": 4,
   "id": "e56d5f0b",
   "metadata": {},
   "outputs": [],
   "source": [
    "import pandas as pd\n",
    "from pandas.tseries.offsets import BDay\n",
    "import numpy as np\n",
    "import matplotlib.pyplot as plt\n",
    "import psycopg2 as pg\n",
    "\n",
    "from config import DATABASE_URI\n",
    "\n",
    "plt.rcParams[\"figure.figsize\"] = (15,10)"
   ]
  },
  {
   "cell_type": "markdown",
   "id": "e461ede3",
   "metadata": {},
   "source": [
    "# Data"
   ]
  },
  {
   "cell_type": "code",
   "execution_count": 17,
   "id": "62988ebe",
   "metadata": {},
   "outputs": [],
   "source": [
    "with pg.connect(DATABASE_URI) as conn:\n",
    "    with conn.cursor() as cur:\n",
    "        cur.execute(\"SELECT date, close FROM prices WHERE frequency='MINUTE' AND ticker='^GSPC'\")\n",
    "        result = cur.fetchall()\n",
    "    \n",
    "data = pd.DataFrame.from_records(result, columns=[\"date\", \"close\"], coerce_float=True, index=\"date\").squeeze()\n",
    "\n",
    "# Daily realized volatility estimator from intraday data\n",
    "results = {}\n",
    "for idx, day in data.groupby(data.index.date):\n",
    "    results[idx] = np.sum(np.square(np.log(day) - np.log(day.shift(1))))\n",
    "    \n",
    "vol = pd.Series(results)\n",
    "vol = vol.reindex(pd.to_datetime(vol.index))\n",
    "wk_vol = np.sqrt(vol.rolling(5).sum().dropna())\n",
    "# Transform to annual percentage terms\n",
    "wk_vol = wk_vol * np.sqrt(252/5) * 100"
   ]
  },
  {
   "cell_type": "code",
   "execution_count": 120,
   "id": "bb460b25",
   "metadata": {},
   "outputs": [],
   "source": [
    "with pg.connect(DATABASE_URI) as conn:\n",
    "    with conn.cursor() as cur:\n",
    "        cur.execute(\"SELECT ticker, date, close FROM prices WHERE frequency='DAILY' AND ticker IN ('^GSPC', '^VIX')\")\n",
    "        result = cur.fetchall()\n",
    "\n",
    "data = pd.DataFrame.from_records(result, columns=[\"ticker\", \"date\", \"close\"], coerce_float=True, index=\"date\")\n",
    "data = data.sort_index()\n",
    "\n",
    "spx = data[data[\"ticker\"] == \"^GSPC\"][\"close\"]\n",
    "vix = data[data[\"ticker\"] == \"^VIX\"][\"close\"]\n",
    "\n",
    "spx_wk_returns = (np.log(spx) - np.log(spx.shift(5))).dropna()"
   ]
  },
  {
   "cell_type": "code",
   "execution_count": 275,
   "id": "3fc74ae2",
   "metadata": {},
   "outputs": [],
   "source": [
    "# Input features construction\n",
    "x = pd.DataFrame(index=wk_vol.index)\n",
    "# Realized volatility from last 4 weekly periods\n",
    "x[\"RV-1\"] = wk_vol\n",
    "x[\"RV-2\"] = wk_vol.shift(5)\n",
    "x[\"RV-3\"] = wk_vol.shift(10)\n",
    "x[\"RV-4\"] = wk_vol.shift(15)\n",
    "# Last 4 end-of-week VIX values\n",
    "x[\"VIX-1\"] = vix\n",
    "x[\"VIX-2\"] = vix.shift(5)\n",
    "x[\"VIX-3\"] = vix.shift(10)\n",
    "x[\"VIX-4\"] = vix.shift(15)\n",
    "# SPX returns from previous 4 weeks\n",
    "x[\"SPX-1\"] = spx_wk_returns\n",
    "x[\"SPX-2\"] = spx_wk_returns.shift(5)\n",
    "x[\"SPX-3\"] = spx_wk_returns.shift(10)\n",
    "x[\"SPX-4\"] = spx_wk_returns.shift(15)\n",
    "# Standard deviation of RV over past month\n",
    "x[\"RV-VOL\"] = wk_vol.rolling(21).std()\n",
    "\n",
    "# Calculates RV percentile rank.\n",
    "# Percent of RV's in the last year that are below the last\n",
    "# recorded RV value\n",
    "rv_percentile = pd.Series(index=x.index, dtype=float)\n",
    "\n",
    "for date in rv_percentile.index:\n",
    "    # Get past year worth of RV data, if there isn't enough, skip\n",
    "    wk_vol_interval = wk_vol.loc[date - BDay(252):date]\n",
    "    if len(wk_vol_interval) < 240:\n",
    "        continue\n",
    "    rv_percent = stats.percentileofscore(wk_vol_interval, wk_vol.loc[date])\n",
    "    rv_percentile.loc[date] = rv_percent\n",
    "# 1-year RV rank\n",
    "x[\"RV-PERCENT\"] = rv_percentile"
   ]
  },
  {
   "cell_type": "code",
   "execution_count": 302,
   "id": "7806bb8d",
   "metadata": {},
   "outputs": [],
   "source": [
    "x = x.dropna()\n",
    "# Forecasting objective: 1 week forward RV\n",
    "y = wk_vol.shift(-5).dropna()\n",
    "\n",
    "common_index = x.index.intersection(y.index)\n",
    "\n",
    "split = int(0.80 * len(common_index))\n",
    "x_train = x.loc[common_index[:split]]\n",
    "y_train = y.loc[common_index[:split]]\n",
    "x_test = x.loc[common_index[split:]]\n",
    "y_test = y.loc[common_index[split:]]"
   ]
  },
  {
   "cell_type": "markdown",
   "id": "db02d732",
   "metadata": {},
   "source": [
    "# Model"
   ]
  },
  {
   "cell_type": "code",
   "execution_count": null,
   "id": "6b200153",
   "metadata": {},
   "outputs": [],
   "source": [
    "model_spec = \"\"\"\n",
    "\n",
    "\"\"\""
   ]
  },
  {
   "cell_type": "code",
   "execution_count": null,
   "id": "f189c818",
   "metadata": {},
   "outputs": [],
   "source": []
  }
 ],
 "metadata": {
  "kernelspec": {
   "display_name": "Python 3 (ipykernel)",
   "language": "python",
   "name": "python3"
  },
  "language_info": {
   "codemirror_mode": {
    "name": "ipython",
    "version": 3
   },
   "file_extension": ".py",
   "mimetype": "text/x-python",
   "name": "python",
   "nbconvert_exporter": "python",
   "pygments_lexer": "ipython3",
   "version": "3.8.5"
  }
 },
 "nbformat": 4,
 "nbformat_minor": 5
}

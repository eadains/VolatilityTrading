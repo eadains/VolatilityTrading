{
 "cells": [
  {
   "cell_type": "code",
   "execution_count": 1,
   "id": "fd81791f",
   "metadata": {},
   "outputs": [],
   "source": [
    "import pandas as pd\n",
    "from pandas.tseries.offsets import BDay\n",
    "import numpy as np\n",
    "import matplotlib.pyplot as plt\n",
    "import psycopg2 as pg\n",
    "from scipy import stats\n",
    "from cmdstanpy import CmdStanModel\n",
    "import arviz as az\n",
    "\n",
    "from config import DATABASE_URI\n",
    "\n",
    "plt.rcParams[\"figure.figsize\"] = (15,10)"
   ]
  },
  {
   "cell_type": "code",
   "execution_count": 2,
   "id": "1b17e115",
   "metadata": {},
   "outputs": [],
   "source": [
    "with pg.connect(DATABASE_URI) as conn:\n",
    "    with conn.cursor() as cur:\n",
    "        cur.execute(\"SELECT date, close FROM prices WHERE frequency='MINUTE' AND ticker='^GSPC'\")\n",
    "        result = cur.fetchall()\n",
    "    \n",
    "data = pd.DataFrame.from_records(result, columns=[\"date\", \"close\"], coerce_float=True, index=\"date\").squeeze()\n",
    "\n",
    "# Daily realized volatility estimator from intraday data\n",
    "results = {}\n",
    "for idx, day in data.groupby(data.index.date):\n",
    "    results[idx] = np.sum(np.square(np.log(day) - np.log(day.shift(1))))\n",
    "    \n",
    "vol = pd.Series(results)\n",
    "vol = vol.reindex(pd.to_datetime(vol.index))"
   ]
  },
  {
   "cell_type": "code",
   "execution_count": 3,
   "id": "c95b4cc8",
   "metadata": {},
   "outputs": [
    {
     "data": {
      "text/plain": [
       "2007-04-30    0.000016\n",
       "2007-05-01    0.000031\n",
       "2007-05-02    0.000012\n",
       "2007-05-03    0.000017\n",
       "2007-05-04    0.000022\n",
       "                ...   \n",
       "2021-12-13    0.000034\n",
       "2021-12-14    0.000048\n",
       "2021-12-15    0.000093\n",
       "2021-12-16    0.000088\n",
       "2021-12-17    0.000120\n",
       "Length: 3687, dtype: float64"
      ]
     },
     "execution_count": 3,
     "metadata": {},
     "output_type": "execute_result"
    }
   ],
   "source": [
    "vol"
   ]
  },
  {
   "cell_type": "code",
   "execution_count": null,
   "id": "c57b1673",
   "metadata": {},
   "outputs": [],
   "source": []
  }
 ],
 "metadata": {
  "kernelspec": {
   "display_name": "Python 3 (ipykernel)",
   "language": "python",
   "name": "python3"
  },
  "language_info": {
   "codemirror_mode": {
    "name": "ipython",
    "version": 3
   },
   "file_extension": ".py",
   "mimetype": "text/x-python",
   "name": "python",
   "nbconvert_exporter": "python",
   "pygments_lexer": "ipython3",
   "version": "3.8.5"
  }
 },
 "nbformat": 4,
 "nbformat_minor": 5
}

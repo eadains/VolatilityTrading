{
 "cells": [
  {
   "cell_type": "code",
   "execution_count": 3,
   "id": "fd81791f",
   "metadata": {},
   "outputs": [],
   "source": [
    "import pandas as pd\n",
    "from pandas.tseries.offsets import BDay\n",
    "import numpy as np\n",
    "import matplotlib.pyplot as plt\n",
    "import psycopg2 as pg\n",
    "from scipy import stats\n",
    "from cmdstanpy import CmdStanModel\n",
    "import arviz as az\n",
    "\n",
    "from config import DATABASE_URI\n",
    "\n",
    "plt.rcParams[\"figure.figsize\"] = (15,10)"
   ]
  },
  {
   "cell_type": "code",
   "execution_count": 4,
   "id": "1b17e115",
   "metadata": {},
   "outputs": [],
   "source": [
    "with pg.connect(DATABASE_URI) as conn:\n",
    "    with conn.cursor() as cur:\n",
    "        cur.execute(\"SELECT date, close FROM prices WHERE frequency='MINUTE' AND ticker='^GSPC'\")\n",
    "        result = cur.fetchall()\n",
    "    \n",
    "data = pd.DataFrame.from_records(result, columns=[\"date\", \"close\"], coerce_float=True, index=\"date\").squeeze()\n",
    "\n",
    "results_RV = {}\n",
    "results_BV = {}\n",
    "results_QV = {}\n",
    "for idx, day in data.groupby(data.index.date):\n",
    "    returns = np.log(day) - np.log(day.shift(1))\n",
    "    results_RV[idx] = np.sum(np.square(returns))\n",
    "    results_BV[idx] = (np.pi/2) * np.sum(np.abs(returns) * np.abs(returns.shift(1)))\n",
    "    results_QV[idx] = 390 * np.sum(np.abs(returns) * np.abs(returns.shift(1)) * np.abs(returns.shift(2)) * np.abs(returns.shift(3)))\n",
    "\n",
    "# Realized variance\n",
    "RV = pd.Series(results_RV)\n",
    "RV = RV.reindex(pd.to_datetime(RV.index))\n",
    "# Bipower variation\n",
    "BV = pd.Series(results_BV)\n",
    "BV = BV.reindex(pd.to_datetime(BV.index))\n",
    "# Quadpower variation\n",
    "QV = pd.Series(results_QV)\n",
    "QV = QV.reindex(pd.to_datetime(QV.index))\n",
    "# Jump test statistic\n",
    "theta = (np.square(np.pi)/4) + np.pi - 5\n",
    "J = (np.sqrt(390) / np.sqrt(theta * np.maximum(1, QV / np.square(BV)))) * ((BV/RV) - 1)\n",
    "# Boolean array of jump presence\n",
    "jumps = J <= stats.norm.ppf(0.01)\n",
    "# Magnitude of jumps on jump days = RV - BV\n",
    "jumps_mag = ((RV - BV) * jumps)\n",
    "# Continuous component of realized variance. On non-jump days it's equal to realized variance,\n",
    "# on jump days it's equal to the bipower variation\n",
    "RV_cont = ~jumps * RV + jumps * BV"
   ]
  },
  {
   "cell_type": "code",
   "execution_count": 24,
   "id": "18b9db36",
   "metadata": {},
   "outputs": [],
   "source": [
    "# Get time indexes of where jumps occured\n",
    "jump_indexes = np.arange(0, len(jumps))[jumps]\n",
    "# number of days between jumps\n",
    "jump_intervals = np.diff(jump_indexes)"
   ]
  },
  {
   "cell_type": "code",
   "execution_count": null,
   "id": "b8d0c680",
   "metadata": {},
   "outputs": [],
   "source": []
  }
 ],
 "metadata": {
  "kernelspec": {
   "display_name": "Python 3 (ipykernel)",
   "language": "python",
   "name": "python3"
  },
  "language_info": {
   "codemirror_mode": {
    "name": "ipython",
    "version": 3
   },
   "file_extension": ".py",
   "mimetype": "text/x-python",
   "name": "python",
   "nbconvert_exporter": "python",
   "pygments_lexer": "ipython3",
   "version": "3.8.5"
  }
 },
 "nbformat": 4,
 "nbformat_minor": 5
}

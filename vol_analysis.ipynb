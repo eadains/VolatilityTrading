{
 "cells": [
  {
   "cell_type": "code",
   "execution_count": 1,
   "id": "869552e6",
   "metadata": {},
   "outputs": [],
   "source": [
    "import pandas as pd\n",
    "import numpy as np\n",
    "from scipy.stats import percentileofscore\n",
    "import requests\n",
    "from zipfile import ZipFile\n",
    "from io import BytesIO\n",
    "\n",
    "from config import FIRSTRATE_URL"
   ]
  },
  {
   "cell_type": "code",
   "execution_count": 2,
   "id": "2bb4edd6",
   "metadata": {},
   "outputs": [],
   "source": [
    "# Download minute data for SPX and EOD for VIX\n",
    "r = requests.get(FIRSTRATE_URL + \"/9841\", stream=True)\n",
    "spx_file = ZipFile(BytesIO(r.raw.read()))\n",
    "r = requests.get(FIRSTRATE_URL + \"/14722\", stream=True)\n",
    "spx_updates = ZipFile(BytesIO(r.raw.read()))\n",
    "\n",
    "r = requests.get(\n",
    "    \"https://cdn.cboe.com/api/global/us_indices/daily_prices/VIX_History.csv\",\n",
    "    stream=True,\n",
    ")\n",
    "vix_file = BytesIO(r.raw.read())"
   ]
  },
  {
   "cell_type": "code",
   "execution_count": 3,
   "id": "662b3219",
   "metadata": {},
   "outputs": [],
   "source": [
    "def CalcReturns(prices: pd.Series) -> pd.Series:\n",
    "    \"\"\"\n",
    "    Calculates log returns\n",
    "\n",
    "    :param prices: series of prices\n",
    "    :returns: log returns\n",
    "    \"\"\"\n",
    "    log_returns = np.log(prices) - np.log(prices.shift(1))\n",
    "    return log_returns.dropna()\n",
    "\n",
    "\n",
    "def CalcRV(prices: pd.Series) -> pd.Series:\n",
    "    \"\"\"\n",
    "    Calculates daily realized variation\n",
    "\n",
    "    Paramters\n",
    "    ---------\n",
    "    prices : pd.Series\n",
    "        Series of prices from a single trading day\n",
    "\n",
    "    Returns\n",
    "    -------\n",
    "    Float\n",
    "        Realized variation\n",
    "    \"\"\"\n",
    "    log_returns = CalcReturns(prices)\n",
    "    return np.sum(log_returns ** 2)"
   ]
  },
  {
   "cell_type": "code",
   "execution_count": 4,
   "id": "5b550f79",
   "metadata": {},
   "outputs": [],
   "source": [
    "SPX = pd.read_csv(\n",
    "    spx_file.open(\"SPX_1min.txt\"),\n",
    "    names=[\"date\", \"open\", \"high\", \"low\", \"close\", \"volume\"],\n",
    "    parse_dates=[\"date\"],\n",
    ").set_index(\"date\")\n",
    "SPX_updates = pd.read_csv(\n",
    "    spx_updates.open(\"SPX_1-min.txt\"),\n",
    "    names=[\"date\", \"open\", \"high\", \"low\", \"close\", \"volume\"],\n",
    "    parse_dates=[\"date\"],\n",
    ").set_index(\"date\")\n",
    "\n",
    "# Realized volatility in annualized percentage terms\n",
    "RV = (\n",
    "    SPX.append(SPX_updates)\n",
    "    .drop_duplicates()[\"close\"]\n",
    "    .groupby(lambda x: x.date)\n",
    "    .agg(CalcRV)\n",
    "    .transform(lambda x: np.sqrt(x) * np.sqrt(252) * 100)\n",
    ")\n",
    "\n",
    "# EOD VIX values\n",
    "vix = pd.read_csv(\n",
    "    vix_file,\n",
    "    header=0,\n",
    "    names=[\"date\", \"open\", \"high\", \"low\", \"close\"],\n",
    "    parse_dates=[\"date\"],\n",
    ").set_index(\"date\")[\"close\"]\n",
    "\n",
    "# Gap between VIX and realized volatility\n",
    "vix_gap = (vix - RV).dropna()\n",
    "returns = SPX.groupby(lambda x: x.floor(\"d\")).last()[\"close\"].pipe(CalcReturns) * 100"
   ]
  },
  {
   "cell_type": "code",
   "execution_count": 7,
   "id": "5652e9a1",
   "metadata": {},
   "outputs": [],
   "source": [
    "current_iv = 21.5\n",
    "current_vix = 25.88"
   ]
  },
  {
   "cell_type": "code",
   "execution_count": 39,
   "id": "9c3ec222",
   "metadata": {},
   "outputs": [
    {
     "name": "stdout",
     "output_type": "stream",
     "text": [
      "Date: 2022-01-19\n",
      "--------------------------------------------------\n",
      "Mean VIX-RV gap (past 2 years): 11.83%\n",
      "Current historical gap (21 days avg): 15.08%\n",
      "--------------------------------------------------\n",
      "Current IV vs 2 year RV: 88.89%\n",
      "--------------------------------------------------\n",
      "IV expected daily move (1 std): 1.35%\n",
      "Daily Returns greater than expected move (last 2 years): 21.43%\n"
     ]
    }
   ],
   "source": [
    "print(f\"Date: {RV.index.union(vix.index)[-1]}\")\n",
    "print(\"-\" * 50)\n",
    "print(f\"Mean VIX-RV gap (past 2 years): {round(vix_gap.iloc[-504:].mean(), 2)}%\")\n",
    "print(\n",
    "    f\"Current historical gap (21 days avg): {round(current_vix - RV.iloc[-21:].mean(), 2)}%\"\n",
    ")\n",
    "print(\"-\" * 50)\n",
    "print(\n",
    "    f\"Current IV vs 2 year RV: {round(percentileofscore(RV.iloc[-504:], current_iv), 2)}%\"\n",
    ")\n",
    "print(\"-\" * 50)\n",
    "# Daily SPX return implied by implied volatility\n",
    "implied_ret = current_iv / np.sqrt(252)\n",
    "print(f\"IV expected daily move (1 std): {round(implied_ret, 2)}%\")\n",
    "print(\n",
    "    f\"Daily Returns greater than expected move (last 2 years): {round(np.sum(np.abs(returns.iloc[-504:]) > implied_ret) / 504 * 100, 2)}%\"\n",
    ")\n"
   ]
  },
  {
   "cell_type": "code",
   "execution_count": null,
   "id": "1f2b6ea5",
   "metadata": {},
   "outputs": [],
   "source": []
  }
 ],
 "metadata": {
  "kernelspec": {
   "display_name": "Python 3 (ipykernel)",
   "language": "python",
   "name": "python3"
  },
  "language_info": {
   "codemirror_mode": {
    "name": "ipython",
    "version": 3
   },
   "file_extension": ".py",
   "mimetype": "text/x-python",
   "name": "python",
   "nbconvert_exporter": "python",
   "pygments_lexer": "ipython3",
   "version": "3.8.10"
  }
 },
 "nbformat": 4,
 "nbformat_minor": 5
}

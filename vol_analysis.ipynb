{
 "cells": [
  {
   "cell_type": "code",
   "execution_count": 28,
   "id": "869552e6",
   "metadata": {},
   "outputs": [],
   "source": [
    "import pandas as pd\n",
    "import numpy as np\n",
    "from scipy.stats import percentileofscore\n",
    "import requests\n",
    "from zipfile import ZipFile\n",
    "from io import BytesIO\n",
    "\n",
    "from config import FIRSTRATE_URL"
   ]
  },
  {
   "cell_type": "code",
   "execution_count": 29,
   "id": "2bb4edd6",
   "metadata": {},
   "outputs": [],
   "source": [
    "# Download minute data for SPX and EOD for VIX\n",
    "r = requests.get(FIRSTRATE_URL + \"/9841\", stream=True)\n",
    "spx_file = ZipFile(BytesIO(r.raw.read()))\n",
    "r = requests.get(FIRSTRATE_URL + \"/14722\", stream=True)\n",
    "spx_updates = ZipFile(BytesIO(r.raw.read()))\n",
    "\n",
    "r = requests.get(\"https://cdn.cboe.com/api/global/us_indices/daily_prices/VIX_History.csv\", stream=True)\n",
    "vix_file = BytesIO(r.raw.read())"
   ]
  },
  {
   "cell_type": "code",
   "execution_count": 30,
   "id": "662b3219",
   "metadata": {},
   "outputs": [],
   "source": [
    "def CalcRV(prices: pd.Series) -> pd.Series:\n",
    "    \"\"\"\n",
    "    Calculates daily realized variation\n",
    "    \n",
    "    Paramters\n",
    "    ---------\n",
    "    prices : pd.Series\n",
    "        Series of prices from a single trading day\n",
    "    \n",
    "    Returns\n",
    "    -------\n",
    "    Float\n",
    "        Realized variation\n",
    "    \"\"\"\n",
    "    log_returns = np.log(prices) - np.log(prices.shift(1))\n",
    "    return np.sum(log_returns**2)"
   ]
  },
  {
   "cell_type": "code",
   "execution_count": 31,
   "id": "5b550f79",
   "metadata": {},
   "outputs": [],
   "source": [
    "SPX = (pd.read_csv(spx_file.open(\"SPX_1min.txt\"), names=[\"date\", \"open\", \"high\", \"low\", \"close\", \"volume\"], parse_dates=[\"date\"])\n",
    "       .set_index(\"date\"))\n",
    "SPX_updates = (pd.read_csv(spx_updates.open(\"SPX_1-min.txt\"), names=[\"date\", \"open\", \"high\", \"low\", \"close\", \"volume\"], parse_dates=[\"date\"])\n",
    "       .set_index(\"date\"))\n",
    "\n",
    "# Realized volatility in annualized percentage terms\n",
    "RV = (SPX.append(SPX_updates)\n",
    "      .drop_duplicates()\n",
    "      [\"close\"]\n",
    "      .groupby(lambda x: x.date)\n",
    "      .agg(CalcRV)\n",
    "      .transform(lambda x: np.sqrt(x) * np.sqrt(252) * 100))\n",
    "\n",
    "# EOD VIX values\n",
    "vix = (pd.read_csv(vix_file, header=0, names=[\"date\", \"open\", \"high\", \"low\", \"close\"], parse_dates=[\"date\"])\n",
    "       .set_index(\"date\")\n",
    "       [\"close\"])\n",
    "\n",
    "# Gap between VIX and realized volatility\n",
    "vix_gap = (vix - RV).dropna()"
   ]
  },
  {
   "cell_type": "code",
   "execution_count": 34,
   "id": "5652e9a1",
   "metadata": {},
   "outputs": [],
   "source": [
    "current_iv = 18.9\n",
    "current_vix = 22.40"
   ]
  },
  {
   "cell_type": "code",
   "execution_count": 35,
   "id": "9c3ec222",
   "metadata": {},
   "outputs": [
    {
     "name": "stdout",
     "output_type": "stream",
     "text": [
      "Date: 2022-01-18\n",
      "--------------------------------------------------\n",
      "Mean VIX-RV gap (past 2 years): 11.82%\n",
      "Current historical gap (21 days avg): 11.55%\n",
      "--------------------------------------------------\n",
      "Current IV vs 2 year RV: 85.91%\n",
      "--------------------------------------------------\n",
      "IV expected daily move (1 std): 1.19%\n",
      "IV expected daily move (2 std): 2.38%\n",
      "IV expected daily move (3 std): 3.57%\n"
     ]
    }
   ],
   "source": [
    "print(f\"Date: {RV.index.union(vix.index)[-1]}\")\n",
    "print(\"-\" * 50)\n",
    "print(f\"Mean VIX-RV gap (past 2 years): {round(vix_gap.iloc[-504:].mean(), 2)}%\")\n",
    "print(f\"Current historical gap (21 days avg): {round(current_vix - RV.iloc[-21:].mean(), 2)}%\")\n",
    "print(\"-\" * 50)\n",
    "print(f\"Current IV vs 2 year RV: {round(percentileofscore(RV.iloc[-504:], current_iv), 2)}%\")\n",
    "print(\"-\" * 50)\n",
    "print(f\"IV expected daily move (1 std): {round(current_iv / np.sqrt(252), 2)}%\")\n",
    "print(f\"IV expected daily move (2 std): {round(current_iv / np.sqrt(252) * 2, 2)}%\")\n",
    "print(f\"IV expected daily move (3 std): {round(current_iv / np.sqrt(252) * 3, 2)}%\")"
   ]
  },
  {
   "cell_type": "code",
   "execution_count": null,
   "id": "ddb72ac5-6fab-4b81-9455-2b2927cc67a1",
   "metadata": {},
   "outputs": [],
   "source": []
  }
 ],
 "metadata": {
  "kernelspec": {
   "display_name": "Python 3 (ipykernel)",
   "language": "python",
   "name": "python3"
  },
  "language_info": {
   "codemirror_mode": {
    "name": "ipython",
    "version": 3
   },
   "file_extension": ".py",
   "mimetype": "text/x-python",
   "name": "python",
   "nbconvert_exporter": "python",
   "pygments_lexer": "ipython3",
   "version": "3.8.10"
  }
 },
 "nbformat": 4,
 "nbformat_minor": 5
}

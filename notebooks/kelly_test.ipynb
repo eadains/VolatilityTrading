{
 "cells": [
  {
   "cell_type": "code",
   "execution_count": 20,
   "id": "7a92d29b",
   "metadata": {},
   "outputs": [],
   "source": [
    "import numpy as np\n",
    "import pandas as pd\n",
    "from scipy.optimize import minimize"
   ]
  },
  {
   "cell_type": "code",
   "execution_count": 111,
   "id": "8fc980c7",
   "metadata": {},
   "outputs": [],
   "source": [
    "class ShortButteryfly:\n",
    "    def __init__(self, chain):\n",
    "        self.chain = chain\n",
    "        self.call, self.put = self.get_atm_options()\n",
    "\n",
    "        self.underlying_price = self.call[\"underprice\"]\n",
    "        # Because of exception handling, put and call strikes are always the same\n",
    "        self.strike = self.call[\"strike\"]\n",
    "        self.premium = self.calc_premium()\n",
    "\n",
    "    def get_atm_options(self):\n",
    "        calls = self.chain[self.chain[\"right\"] == \"C\"]\n",
    "        puts = self.chain[self.chain[\"right\"] == \"P\"]\n",
    "\n",
    "        atm_call = calls.loc[np.abs(calls[\"delta\"] - 0.50).idxmin()]\n",
    "        atm_put = puts.loc[np.abs(puts[\"delta\"] + 0.50).idxmin()]\n",
    "\n",
    "        # Make sure selected options have the same strike. This should always be the case.\n",
    "        if atm_call[\"strike\"] != atm_put[\"strike\"]:\n",
    "            raise ValueError(\"Strike of computed ATM call and put is not identical\")\n",
    "\n",
    "        return atm_call, atm_put\n",
    "\n",
    "    def calc_premium(self):\n",
    "        call_mid = (self.call[\"bid\"] + self.call[\"ask\"]) / 2\n",
    "        put_mid = (self.put[\"bid\"] + self.put[\"ask\"]) / 2\n",
    "        return call_mid + put_mid\n",
    "\n",
    "    def calc_pnl(self, underlying_price):\n",
    "        if underlying_price > self.strike:\n",
    "            pnl = self.premium - (underlying_price - self.strike)\n",
    "        elif underlying_price < self.strike:\n",
    "            pnl = self.premium - (self.strike - underlying_price)\n",
    "        return pnl\n",
    "\n",
    "def log_wealth_optim(f, pnl):\n",
    "    \"\"\"\n",
    "    Returns the negative of log wealth for optimization\n",
    "    \"\"\"\n",
    "    return -np.mean(np.log(1 + f * pnl))\n",
    "\n",
    "\n",
    "def calc_kelly(position: ShortButteryfly, returns):\n",
    "    prices = position.underlying_price * (1 + returns)\n",
    "    pnl_func = np.vectorize(position.calc_pnl)\n",
    "    pnls = pnl_func(prices)\n",
    "    # Kelly function uses log of wealth, so it cannot be negative\n",
    "    # This scales the pnl values so the lowest they ever go is 0\n",
    "    # Because it's a monotonic transformation, the optimization\n",
    "    # still finds the best point\n",
    "    scaled_pnls = pnls / np.max(np.abs(pnls) + 1)\n",
    "\n",
    "    initial = 0.50\n",
    "    result = minimize(log_wealth_optim, x0=initial, args=(scaled_pnls), constraints=({\"type\": \"ineq\", \"fun\": lambda x: x},\n",
    "                                                                                     {\"type\": \"ineq\", \"fun\": lambda x: 1 - x}))\n",
    "    return result\n"
   ]
  },
  {
   "cell_type": "code",
   "execution_count": 112,
   "id": "575d9c43",
   "metadata": {},
   "outputs": [],
   "source": [
    "chain = pd.read_csv(\"option_chain.csv\")\n",
    "position = ShortButteryfly(chain)"
   ]
  },
  {
   "cell_type": "code",
   "execution_count": 117,
   "id": "dc92cf8a",
   "metadata": {},
   "outputs": [],
   "source": [
    "returns = np.linspace(-0.013, 0.013, 10000)"
   ]
  },
  {
   "cell_type": "code",
   "execution_count": 118,
   "id": "1d95e380",
   "metadata": {},
   "outputs": [
    {
     "data": {
      "text/plain": [
       "     fun: -0.04088394248416916\n",
       "     jac: array([0.00053435])\n",
       " message: 'Optimization terminated successfully'\n",
       "    nfev: 7\n",
       "     nit: 3\n",
       "    njev: 3\n",
       "  status: 0\n",
       " success: True\n",
       "       x: array([0.59379675])"
      ]
     },
     "execution_count": 118,
     "metadata": {},
     "output_type": "execute_result"
    }
   ],
   "source": [
    "calc_kelly(position, returns)"
   ]
  },
  {
   "cell_type": "code",
   "execution_count": null,
   "id": "76d35681",
   "metadata": {},
   "outputs": [],
   "source": []
  }
 ],
 "metadata": {
  "kernelspec": {
   "display_name": "Python 3 (ipykernel)",
   "language": "python",
   "name": "python3"
  },
  "language_info": {
   "codemirror_mode": {
    "name": "ipython",
    "version": 3
   },
   "file_extension": ".py",
   "mimetype": "text/x-python",
   "name": "python",
   "nbconvert_exporter": "python",
   "pygments_lexer": "ipython3",
   "version": "3.8.5"
  }
 },
 "nbformat": 4,
 "nbformat_minor": 5
}
